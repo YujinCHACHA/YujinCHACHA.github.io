{
 "cells": [
  {
   "cell_type": "code",
   "execution_count": 2,
   "id": "0cb1b90a-a8a2-478c-8c4a-78c521975e21",
   "metadata": {},
   "outputs": [],
   "source": [
    "import numpy as np\n",
    "import pandas as pd\n",
    "\n",
    "import warnings\n",
    "warnings.filterwarnings('ignore')\n",
    "\n",
    "# import stockAI_v3 as sai"
   ]
  },
  {
   "cell_type": "markdown",
   "id": "2cc2119c-184e-41bb-9c54-20ecb8860304",
   "metadata": {
    "tags": []
   },
   "source": [
    "# 1. Data Collection\n",
    "- 함수 변경해야 함\n",
    "- 크롤링 후 데이터 저장 방법: github 업데이트\n",
    "- 국내 KRX\n",
    "- 해외 investing.com\n",
    "\n",
    "\n",
    "- fdr 데이터 수집 2001~ "
   ]
  },
  {
   "cell_type": "markdown",
   "id": "d9062308-9e92-45f1-8842-35db65c81eeb",
   "metadata": {
    "jp-MarkdownHeadingCollapsed": true,
    "tags": []
   },
   "source": [
    "## 1.1 Load tickers "
   ]
  },
  {
   "cell_type": "code",
   "execution_count": 3,
   "id": "c6dcef5d-93bc-4b38-9172-5a57f7e9d3c2",
   "metadata": {},
   "outputs": [
    {
     "ename": "NameError",
     "evalue": "name 'get_ticker' is not defined",
     "output_type": "error",
     "traceback": [
      "\u001b[0;31m---------------------------------------------------------------------------\u001b[0m",
      "\u001b[0;31mNameError\u001b[0m                                 Traceback (most recent call last)",
      "\u001b[0;32m/tmp/ipykernel_740357/3120015988.py\u001b[0m in \u001b[0;36m<module>\u001b[0;34m\u001b[0m\n\u001b[0;32m----> 1\u001b[0;31m \u001b[0mlst_tickers\u001b[0m \u001b[0;34m=\u001b[0m \u001b[0mget_ticker\u001b[0m\u001b[0;34m(\u001b[0m\u001b[0mmarkets\u001b[0m\u001b[0;34m=\u001b[0m\u001b[0;34m[\u001b[0m\u001b[0;34m'KSC'\u001b[0m\u001b[0;34m,\u001b[0m \u001b[0;34m'KOE'\u001b[0m\u001b[0;34m]\u001b[0m\u001b[0;34m)\u001b[0m \u001b[0;31m# KSC: KOSPI, KOE: KOSDAQ\u001b[0m\u001b[0;34m\u001b[0m\u001b[0;34m\u001b[0m\u001b[0m\n\u001b[0m\u001b[1;32m      2\u001b[0m \u001b[0mprint\u001b[0m\u001b[0;34m(\u001b[0m\u001b[0mlen\u001b[0m\u001b[0;34m(\u001b[0m\u001b[0mlst_tickers\u001b[0m\u001b[0;34m)\u001b[0m\u001b[0;34m)\u001b[0m\u001b[0;34m\u001b[0m\u001b[0;34m\u001b[0m\u001b[0m\n\u001b[1;32m      3\u001b[0m \u001b[0mprint\u001b[0m\u001b[0;34m(\u001b[0m\u001b[0mlst_tickers\u001b[0m\u001b[0;34m[\u001b[0m\u001b[0;34m:\u001b[0m\u001b[0;36m5\u001b[0m\u001b[0;34m]\u001b[0m\u001b[0;34m)\u001b[0m\u001b[0;34m\u001b[0m\u001b[0;34m\u001b[0m\u001b[0m\n",
      "\u001b[0;31mNameError\u001b[0m: name 'get_ticker' is not defined"
     ]
    }
   ],
   "source": [
    "lst_tickers = get_ticker(markets=['KSC', 'KOE']) # KSC: KOSPI, KOE: KOSDAQ\n",
    "print(len(lst_tickers))\n",
    "print(lst_tickers[:5])"
   ]
  },
  {
   "cell_type": "markdown",
   "id": "0cfa99bd-4a30-432e-9196-93cf42b78c58",
   "metadata": {
    "jp-MarkdownHeadingCollapsed": true,
    "tags": []
   },
   "source": [
    "## 1.2 Load stock data"
   ]
  },
  {
   "cell_type": "code",
   "execution_count": null,
   "id": "46177cb4-abbc-48bb-9de0-9649b17f1bb8",
   "metadata": {},
   "outputs": [],
   "source": []
  },
  {
   "cell_type": "markdown",
   "id": "4073d86e-b79e-443f-a731-d5275cd4afa0",
   "metadata": {
    "tags": []
   },
   "source": [
    "# 2. Data Preprocessing"
   ]
  },
  {
   "cell_type": "markdown",
   "id": "2d89ffad-5937-4059-ab9e-3ef98d40e59c",
   "metadata": {
    "tags": []
   },
   "source": [
    "## 2.1 Add indicator"
   ]
  },
  {
   "cell_type": "code",
   "execution_count": null,
   "id": "c0d37d4b-e41f-4c54-bf91-190e931d729c",
   "metadata": {},
   "outputs": [],
   "source": [
    "stock_data = pd.read_csv('raw_data_ex_1004.csv')"
   ]
  },
  {
   "cell_type": "code",
   "execution_count": null,
   "id": "ce9c3577-22f3-4b80-9040-d2b871a2a39a",
   "metadata": {},
   "outputs": [],
   "source": [
    "stock_data"
   ]
  },
  {
   "cell_type": "code",
   "execution_count": null,
   "id": "1640a030-ca1d-4320-87a7-b547105d4ab5",
   "metadata": {},
   "outputs": [],
   "source": [
    "check_index = ['MA5', 'MA20', 'MA60','MA120', \n",
    "             'trading_value','next_change',\n",
    "             'MFI','ADI','OBV','CMF','FI','EOM_EMV','VPT','NVI','VMAP',\n",
    "             'BHB','BLB','KCH','KCL','KCM','DCH','DCL','DCM','UI',\n",
    "             'SMA','EMA','WMA','MACD','VIneg','VIpos','TRIX','MI','CCI','DPO','KST','Ichimoku','ParabolicSAR','STC',\n",
    "             'RSI','SRSI','TSI','UO','SR','WR','AO','KAMA','ROC','PPO','PVO']\n",
    "\n",
    "check_df = sai.add_index(data=stock_data, index_list=check_index)\n",
    "check_df"
   ]
  },
  {
   "cell_type": "markdown",
   "id": "8775df29-6ad8-41f6-8a9b-e4e60c9dccde",
   "metadata": {
    "tags": []
   },
   "source": [
    "## 2.2 Data Scaling"
   ]
  },
  {
   "cell_type": "code",
   "execution_count": null,
   "id": "011333e6-4a29-4292-8ef8-341a1d2e67cf",
   "metadata": {},
   "outputs": [],
   "source": [
    "import pandas as pd\n",
    "check_df = pd.read_csv('../_common/processed_data_ex_1004.csv')"
   ]
  },
  {
   "cell_type": "code",
   "execution_count": null,
   "id": "55eed779-ce59-4589-854f-09611b4f0b81",
   "metadata": {},
   "outputs": [],
   "source": [
    "check_scaled_KR = sai.scaling(data=check_df, scaler_type=\"div-close\", window_size=None)\n",
    "check_scaled_KR"
   ]
  },
  {
   "cell_type": "markdown",
   "id": "1da1c61f-640c-44f9-bd34-104d333b3613",
   "metadata": {},
   "source": [
    "## 2.2 Data transformation in time series\n",
    "Set day=10 to convert to time series data with 10 days per row."
   ]
  },
  {
   "cell_type": "code",
   "execution_count": null,
   "id": "0b155360-72d4-4fd4-9687-2f347ba1b90d",
   "metadata": {},
   "outputs": [],
   "source": [
    "df_time_series = sai.time_series(check_scaled_KR, day=10)"
   ]
  },
  {
   "cell_type": "code",
   "execution_count": null,
   "id": "3ebd6775-876c-444a-8012-9f3d3adf7a3a",
   "metadata": {},
   "outputs": [],
   "source": [
    "df_time_series"
   ]
  },
  {
   "cell_type": "markdown",
   "id": "d44041b1-6e81-4955-8f1a-6e634ae5fce5",
   "metadata": {
    "tags": []
   },
   "source": [
    "# 3. Model training and evaluation"
   ]
  },
  {
   "cell_type": "markdown",
   "id": "a3b6a954-82c7-4a81-a34c-cb1042333b3b",
   "metadata": {
    "tags": []
   },
   "source": [
    "## 3.1 Data seperation to train, test dataset"
   ]
  },
  {
   "cell_type": "code",
   "execution_count": null,
   "id": "8cb24cef-0114-4ea3-b136-ff5bb4767de5",
   "metadata": {},
   "outputs": [],
   "source": [
    "data = check_df # Data before scaling\n",
    "data_scaled = check_scaled_KR # Data after scaling\n",
    "\n",
    "# lst_date = [[['2017-01-01', '2019-12-31'], ['2020-01-01', '2020-12-31']], \n",
    "#            [['2018-01-01', '2020-12-31'], ['2021-01-01', '2021-12-31']]] # 2-fold cv\n",
    "\n",
    "# Data seperation to train, test dataset\n",
    "train_data = data[(data['Date'] >= '2017-01-01') & (data['Date'] <= '2020-12-31')]\n",
    "test_data = data[(data['Date'] >= '2021-01-01') & (data['Date'] <= '2021-12-31')]\n",
    "\n",
    "# Scaled data seperation into train, test dataset\n",
    "train_data_scaled = data_scaled[(data_scaled['Date'] >= '2017-01-01') & (data_scaled['Date'] <= '2020-12-31')]\n",
    "test_data_scaled = data_scaled[(data_scaled['Date'] >= '2021-01-01') & (data_scaled['Date'] <= '2021-12-31')]\n",
    "\n",
    "print(train_data.shape, test_data.shape)\n",
    "print(train_data_scaled.shape, test_data_scaled.shape)"
   ]
  },
  {
   "cell_type": "markdown",
   "id": "c9b9de70-3739-4b11-943e-3c9eb124ff8d",
   "metadata": {
    "tags": []
   },
   "source": [
    "## 3.2 Trader definition\n",
    "Add a model, time series model"
   ]
  },
  {
   "cell_type": "code",
   "execution_count": null,
   "id": "d2d7159f-e8b0-4070-adb4-1251f6c60e26",
   "metadata": {},
   "outputs": [],
   "source": [
    "# list to store trader objects\n",
    "lst_trader = [] "
   ]
  },
  {
   "cell_type": "markdown",
   "id": "1ea3d5ec-b21c-454f-a965-e41b2c6b8515",
   "metadata": {
    "tags": []
   },
   "source": [
    "#### 1) SuwonLab XGBoost"
   ]
  },
  {
   "cell_type": "code",
   "execution_count": null,
   "id": "702996ca-10aa-49aa-87d7-04593735fe68",
   "metadata": {},
   "outputs": [],
   "source": [
    "from xgboost import XGBClassifier\n",
    "\n",
    "# condition acquisition object\n",
    "b1_sw = sai.conditional_buyer() \n",
    "\n",
    "def sampling1(df): # generating condition function\n",
    "    condition1 = (-0.3 <= df.Change) & (df.Change <= 0.3) # Eliminate exceptions exceeding the upper and lower limits\n",
    "    condition2 = df.trading_value >= 1000000000 # Volatility condition 1: Transaction amount of more than 1 billion won\n",
    "    condition3 = (-0.05 >= df.Change) | (0.05 <= df.Change) # Volatility condition 2: Today's stock price change rate is more than 5%\n",
    "    condition = condition1 & condition2 & condition3\n",
    "    return condition\n",
    "\n",
    "b1_sw.condition = sampling1 # Save Condition Function\n",
    "\n",
    "\n",
    "# Create Machine Learning Purchase Object\n",
    "b2_sw = sai.machinelearning_buyer()  \n",
    "\n",
    "def transform(data):\n",
    "    # Change to two-dimensional structure\n",
    "    pass\n",
    "\n",
    "b2_sw.data_transform = transform\n",
    "\n",
    "\n",
    "scale_pos_weight = round(72/28 , 2)\n",
    "b2_sw.algorithm = XGBClassifier(random_state = 42,\n",
    "                   n_jobs=30,\n",
    "                   scale_pos_weight=scale_pos_weight,\n",
    "                   learning_rate=0.1,\n",
    "                   max_depth=4,\n",
    "                   n_estimators=1000,\n",
    "                   )  \n",
    "b2_sw.threshold = 0.8\n",
    "\n",
    "\n",
    "# Create a sales object\n",
    "sell_all = sai.SubSeller() ## (Add)\n",
    "\n",
    "\n",
    "# Trader object \n",
    "t1 = sai.Trader()\n",
    "t1.name = 'SuwonLabXGboost'\n",
    "t1.label = 'class&0.02' ## (Add)\n",
    "t1.buyer = sai.Buyer([b1_sw, b2_sw]) # [ conditional buyer, machinelearning buyer ] \n",
    "t1.seller = sai.Seller(sell_all)\n",
    "t1.scaling = 'div-close'\n",
    "\n",
    "lst_trader.append(t1)"
   ]
  },
  {
   "cell_type": "markdown",
   "id": "0f5b801c-48d4-44b4-9fcc-6dc8fa6a0a99",
   "metadata": {
    "tags": []
   },
   "source": [
    "#### 2) GyeonggiLab LogisticRegression"
   ]
  },
  {
   "cell_type": "code",
   "execution_count": null,
   "id": "c4c18bba-7beb-44fb-92a3-9cc6e1eefe9e",
   "metadata": {},
   "outputs": [],
   "source": [
    "from sklearn.linear_model import LogisticRegression\n",
    "\n",
    "# condition acquisition object\n",
    "b1_gg = sai.conditional_buyer()\n",
    "\n",
    "def sampling2(df): # generating condition function\n",
    "    condition1 = (-0.3 <= df.Change) & (df.Change <= 0.3) # Eliminate exceptions exceeding the upper and lower limits\n",
    "    condition2 = df.trading_value >= 1000000000 # Volatility condition 1: Transaction amount of more than 1 billion won\n",
    "    condition3 = (-0.05 >= df.Change) | (0.05 <= df.Change) # Volatility condition 2: Today's stock price change rate is more than 5% \n",
    "    condition = condition1 & condition2 & condition3\n",
    "    return condition\n",
    "\n",
    "b1_gg.condition = sampling2\n",
    "\n",
    "\n",
    "# Create Machine Learning Purchase Object\n",
    "b2_gg = sai.machinelearning_buyer()  \n",
    "b2_gg.algorithm = LogisticRegression()\n",
    "b2_gg.threshold = 0.5\n",
    "\n",
    "\n",
    "# Create a sales object\n",
    "sell_all = sai.SubSeller() ## (Add)\n",
    "\n",
    "\n",
    "# Trader object    \n",
    "t2 = sai.Trader()\n",
    "t2.name = 'GyeonggiLabLogisticRegression'\n",
    "t2.label = 'class&0.02' ## (Add)\n",
    "t2.buyer = sai.Buyer([b1_gg, b2_gg]) # [ conditional buyer, machinelearning buyer ] \n",
    "t2.seller = sai.Seller(sell_all)\n",
    "t2.scaling = 'div-close'\n",
    "\n",
    "lst_trader.append(t2)"
   ]
  },
  {
   "cell_type": "markdown",
   "id": "74ceb997-60c0-4c01-a5be-96a11c4c6bc1",
   "metadata": {
    "tags": []
   },
   "source": [
    "#### 3) Pororo LightGBM"
   ]
  },
  {
   "cell_type": "code",
   "execution_count": null,
   "id": "3f7fbdb4-e3ec-4b6c-9ad3-48d6262a817f",
   "metadata": {},
   "outputs": [],
   "source": [
    "from lightgbm import LGBMClassifier\n",
    "\n",
    "# condition acquisition object \n",
    "b1_pr = sai.conditional_buyer()\n",
    "\n",
    "def sampling3(df): # generating condition function\n",
    "    condition1 = (-0.3 <= df.Change) & (df.Change <= 0.3) # Eliminate exceptions exceeding the upper and lower limits\n",
    "    condition2 = df.trading_value >= 1000000000 # Volatility condition 1: Transaction amount of more than 1 billion won\n",
    "    condition3 = (-0.05 >= df.Change) | (0.05 <= df.Change) # Volatility condition 2: Today's stock price change rate is more than 5%\n",
    "    condition = condition1 & condition2 & condition3\n",
    "    return condition\n",
    "\n",
    "b1_pr.condition = sampling3\n",
    "\n",
    "\n",
    "# Create Machine Learning Purchase Object\n",
    "b2_pr = sai.machinelearning_buyer()\n",
    "\n",
    "scale_pos_weight = round(72/28 , 2)\n",
    "params = {  'random_state' : 42,\n",
    "            'scale_pos_weight' : scale_pos_weight,\n",
    "            'learning_rate' : 0.1, \n",
    "            'num_iterations' : 1000,\n",
    "            'max_depth' : 4,\n",
    "            'n_jobs' : 30,\n",
    "            'boost_from_average' : False,\n",
    "            'objective' : 'binary' }\n",
    "\n",
    "b2_pr.algorithm =  LGBMClassifier( **params )\n",
    "b2_pr.threshold = 0.8\n",
    "\n",
    "\n",
    "# Create a sales object\n",
    "sell_all = sai.SubSeller() ## (Add)\n",
    "\n",
    "\n",
    "# Trader object    \n",
    "t3 = sai.Trader()\n",
    "t3.name = 'PororoLightGBM'\n",
    "t3.label = 'class&0.02' ## (Add)\n",
    "t3.buyer = sai.Buyer([b1_pr, b2_pr]) # [ conditional buyer, machinelearning buyer ] \n",
    "t3.seller = sai.Seller(sell_all)\n",
    "t3.scaling = 'div-close'\n",
    "\n",
    "lst_trader.append(t3)"
   ]
  },
  {
   "cell_type": "markdown",
   "id": "7581934e-6f99-423a-9be2-9d04fc721bee",
   "metadata": {
    "tags": []
   },
   "source": [
    "## 3.3 Create and store required datasets \n",
    "**[Types of Data Stored]**  \n",
    "- Original dataset (training/test, independent/dependent variables_regression/dependent variables_classification)\n",
    "- Standardized dataset (teaching/testing, independent/dependent variables_regression/dependent variables_classification)"
   ]
  },
  {
   "cell_type": "code",
   "execution_count": null,
   "id": "fa6c7f4a-5409-494f-bc3f-e8d50690a1c0",
   "metadata": {},
   "outputs": [],
   "source": [
    "sai.save_dataset(lst_trader, train_data, test_data, train_data_scaled, test_data_scaled)"
   ]
  },
  {
   "cell_type": "markdown",
   "id": "edea1c9b-1877-4f43-812e-52441be6f0db",
   "metadata": {
    "tags": []
   },
   "source": [
    "## 3.4 Model Training and Testing"
   ]
  },
  {
   "cell_type": "markdown",
   "id": "57aab14c-f32f-440f-85bc-b1c141614640",
   "metadata": {
    "tags": []
   },
   "source": [
    "#### 1) Model Training"
   ]
  },
  {
   "cell_type": "code",
   "execution_count": null,
   "id": "ff6376c1-ea93-4e05-86d5-4c9a58fc369c",
   "metadata": {},
   "outputs": [],
   "source": [
    "sai.trader_train(lst_trader) "
   ]
  },
  {
   "cell_type": "markdown",
   "id": "13c42e53-f803-4701-9eb0-3701ea1cd98f",
   "metadata": {
    "tags": []
   },
   "source": [
    "#### 2) Model evaluation and threshold setting"
   ]
  },
  {
   "cell_type": "code",
   "execution_count": null,
   "id": "3821b4ff-9db7-49e4-a74e-5bb6fe259b5d",
   "metadata": {},
   "outputs": [],
   "source": [
    "sai.get_eval_by_threshold(lst_trader)"
   ]
  },
  {
   "cell_type": "markdown",
   "id": "35e709d8-4739-41c3-8cb6-b023b314a822",
   "metadata": {
    "tags": []
   },
   "source": [
    "#### 3) Profitability verification histogram"
   ]
  },
  {
   "cell_type": "code",
   "execution_count": null,
   "id": "91f4f234-b611-4eaa-8358-330916447b1b",
   "metadata": {},
   "outputs": [],
   "source": [
    "sai.histogram_plot(lst_trader)"
   ]
  },
  {
   "cell_type": "markdown",
   "id": "d5a81636-13e1-4a64-8ed3-d4910aeecf56",
   "metadata": {
    "tags": []
   },
   "source": [
    "## 3.5 Calculate the rate of return"
   ]
  },
  {
   "cell_type": "markdown",
   "id": "2074a4b2-990a-4491-bd5e-092b848916bb",
   "metadata": {
    "tags": []
   },
   "source": [
    "#### 1) Preparation of Transaction log"
   ]
  },
  {
   "cell_type": "code",
   "execution_count": null,
   "id": "d4a1e5c6-e066-45d5-b325-7e1e984cdc56",
   "metadata": {},
   "outputs": [],
   "source": [
    "df_signal_all = sai.decision(lst_trader, dtype='test')"
   ]
  },
  {
   "cell_type": "code",
   "execution_count": null,
   "id": "a8a13c77-5797-4d5f-9eaa-f5d00294d4b0",
   "metadata": {},
   "outputs": [],
   "source": [
    "df_signal_all"
   ]
  },
  {
   "cell_type": "markdown",
   "id": "99dcfe4f-7e32-45d5-8b8c-10461d19631e",
   "metadata": {
    "tags": []
   },
   "source": [
    "#### 2) simulation (calculation the rate of return)"
   ]
  },
  {
   "cell_type": "code",
   "execution_count": null,
   "id": "8fcaf91c-126f-46d2-aa13-719a91df13a7",
   "metadata": {},
   "outputs": [],
   "source": [
    "df_history_all = sai.simulation(df_signal_all, init_budget=10000000, init_stock={})"
   ]
  },
  {
   "cell_type": "code",
   "execution_count": null,
   "id": "e28daa56-3a27-4077-94fe-6ff0c84c17a2",
   "metadata": {},
   "outputs": [],
   "source": [
    "df_history_all"
   ]
  },
  {
   "cell_type": "markdown",
   "id": "f4c33258-ce4c-458a-99c0-443aede8f1f6",
   "metadata": {
    "tags": []
   },
   "source": [
    "#### 3) Leaderboard"
   ]
  },
  {
   "cell_type": "code",
   "execution_count": null,
   "id": "e648be28-acb3-4949-966a-040a32c53cfc",
   "metadata": {},
   "outputs": [],
   "source": [
    "sai.leaderboard(df_history_all)"
   ]
  },
  {
   "cell_type": "markdown",
   "id": "bcfcb468-abc0-4ed6-b8f4-e64a26ae49ef",
   "metadata": {
    "tags": []
   },
   "source": [
    "#### 4) Visualization of returns"
   ]
  },
  {
   "cell_type": "code",
   "execution_count": null,
   "id": "49f5ebe0-96cf-46f3-aebe-c1683dc89bc0",
   "metadata": {},
   "outputs": [],
   "source": [
    "sai.yield_plot(df_history_all)"
   ]
  }
 ],
 "metadata": {
  "kernelspec": {
   "display_name": "Python 3 (ipykernel)",
   "language": "python",
   "name": "python3"
  },
  "language_info": {
   "codemirror_mode": {
    "name": "ipython",
    "version": 3
   },
   "file_extension": ".py",
   "mimetype": "text/x-python",
   "name": "python",
   "nbconvert_exporter": "python",
   "pygments_lexer": "ipython3",
   "version": "3.8.2"
  }
 },
 "nbformat": 4,
 "nbformat_minor": 5
}
